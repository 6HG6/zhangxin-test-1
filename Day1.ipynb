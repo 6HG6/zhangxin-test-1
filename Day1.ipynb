{
 "cells": [
  {
   "cell_type": "code",
   "execution_count": 28,
   "metadata": {},
   "outputs": [
    {
     "name": "stdout",
     "output_type": "stream",
     "text": [
      "陈萌,010-116321,M,19000101,北京市海淀区苏州街3号大恒科技大厦北座6层,100080,10116,010-82808028,010-82828028-208,chenmeng@dist.com.cn,0\n",
      "\n",
      "陈萌,010-116321,M,19000101,北京市海淀区苏州街3号大恒科技大厦北座6层,100080,10116,010-82808028,010-82828028-208,chenmeng@dist.com.cn,0\n",
      "['陈萌', 'chenmeng@dist.com.cn']\n",
      "npd/utjeAhofnofid\n",
      "陈萌-M-北京市海淀区苏州街3号大恒科技大厦北座6层-npd/utjeAhofnofid\n"
     ]
    }
   ],
   "source": [
    "file='D:\\\\kaifangfang\\\\kaifangX.txt'\n",
    "open_file=open(file,mode='r',encoding='gbk')\n",
    "line=open_file.readline()\n",
    "print(line)\n",
    "print(line.strip('\\n'))\n",
    "print(str.split('陈萌 chenmeng@dist.com.cn'))\n",
    "h1='chenmeng@dist.com'\n",
    "h2=''\n",
    "for i in h1:\n",
    "    h3=chr(ord(i)+1)\n",
    "    h2=h3+h2\n",
    "print(h2)\n",
    "a='陈萌'\n",
    "b='M'\n",
    "c='北京市海淀区苏州街3号大恒科技大厦北座6层'\n",
    "d='npd/utjeAhofnofid'\n",
    "print('-'.join((a,b,c,d)))\n",
    "\n",
    "open_file.close()\n"
   ]
  },
  {
   "cell_type": "code",
   "execution_count": 39,
   "metadata": {},
   "outputs": [
    {
     "name": "stdout",
     "output_type": "stream",
     "text": [
      "陈萌,010-116321,M,19000101,北京市海淀区苏州街3号大恒科技大厦北座6层,100080,10116,010-82808028,010-82828028-208,chenmeng@dist.com.cn,0\n",
      "\n",
      "陈萌,010-116321,M,19000101,北京市海淀区苏州街3号大恒科技大厦北座6层,100080,10116,010-82808028,010-82828028-208,chenmeng@dist.com.cn,0\n",
      "['陈萌', '010-116321', 'M', '19000101', '北京市海淀区苏州街3号大恒科技大厦北座6层', '100080', '10116', '010-82808028', '010-82828028-208', 'chenmeng@dist.com.cn', '0\\n']\n",
      "<class 'list'>\n",
      "陈萌\n",
      "chenmeng@dist.com.cn\n",
      "difonfohAejtu/dpn/do\n",
      "陈萌-M-北京市海淀区苏州街3号大恒科技大厦北座6层-difonfohAejtu/dpn/do\n"
     ]
    }
   ],
   "source": [
    "file='D:\\\\kaifangfang\\\\kaifangX.txt'\n",
    "open_file=open(file,mode='r',encoding='gbk')\n",
    "line=open_file.readline()\n",
    "print(line)\n",
    "strip_line=line.strip('\\n')\n",
    "print(strip_line)\n",
    "split_line=line.split(',')\n",
    "print(split_line)\n",
    "print(type(split_line))\n",
    "name=split_line[0]\n",
    "print(name)\n",
    "email=split_line[9]\n",
    "print(email)\n",
    "kong=''\n",
    "for i in email:\n",
    "    jiami=chr(ord(i)+1)\n",
    "    kong=kong+jiami\n",
    "print(kong)\n",
    "xingbie=split_line[2]\n",
    "address=split_line[4]\n",
    "lianjie='-'.join((name,xingbie,address,kong))\n",
    "print(lianjie)"
   ]
  },
  {
   "cell_type": "code",
   "execution_count": null,
   "metadata": {},
   "outputs": [],
   "source": []
  }
 ],
 "metadata": {
  "kernelspec": {
   "display_name": "Python 3",
   "language": "python",
   "name": "python3"
  },
  "language_info": {
   "codemirror_mode": {
    "name": "ipython",
    "version": 3
   },
   "file_extension": ".py",
   "mimetype": "text/x-python",
   "name": "python",
   "nbconvert_exporter": "python",
   "pygments_lexer": "ipython3",
   "version": "3.6.4"
  }
 },
 "nbformat": 4,
 "nbformat_minor": 2
}
